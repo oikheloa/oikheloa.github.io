{
 "cells": [
  {
   "cell_type": "markdown",
   "metadata": {},
   "source": [
    "# [Insert Creative Title HERE]"
   ]
  },
  {
   "cell_type": "markdown",
   "metadata": {},
   "source": [
    "## Introduction and Motivation"
   ]
  },
  {
   "cell_type": "markdown",
   "metadata": {},
   "source": [
    "## Required Libraries\n",
    "\n",
    "Intro to Pandas:\n",
    "https://pandas.pydata.org/pandas-docs/version/0.15/tutorials.html\n",
    "\n",
    "Learning the Spotify API through spotipy:\n",
    "https://spotipy.readthedocs.io/en/latest/#\n"
   ]
  },
  {
   "cell_type": "code",
   "execution_count": 9,
   "metadata": {},
   "outputs": [],
   "source": [
    "import sys\n",
    "import math\n",
    "import pandas as pd\n",
    "import spotipy\n",
    "import spotipy.util as util\n",
    "import seaborn as sns\n",
    "import matplotlib.pyplot as plt\n",
    "from sklearn import cluster"
   ]
  },
  {
   "cell_type": "markdown",
   "metadata": {},
   "source": [
    "## Data Collection and Tidying\n",
    "//TODO Talk about general authentication flow. \n",
    "<br>\n",
    "//TODO Link example resource. \n",
    "<br>\n",
    "//TODO Explain how to get the spotify username"
   ]
  },
  {
   "cell_type": "code",
   "execution_count": 2,
   "metadata": {},
   "outputs": [],
   "source": [
    "# Generate authorization token for reading user library\n",
    "username = '12124976904'\n",
    "\n",
    "scope = 'user-library-read'\n",
    "client_id = '076ff5215a374d2481d0117877d79b74'\n",
    "client_secret = '0ff2fd29106e4b7ebd7da4152d4a20c3'\n",
    "redirect_uri = 'https://www.google.com/'\n",
    "\n",
    "token = util.prompt_for_user_token(username, scope, client_id, client_secret, redirect_uri)\n",
    "\n",
    "if token:\n",
    "    sp = spotipy.Spotify(auth=token)\n",
    "\n",
    "else:\n",
    "    print(\"Can't get token for\", username)\n",
    "    sys.exit()"
   ]
  },
  {
   "cell_type": "markdown",
   "metadata": {},
   "source": [
    "//TODO explain the code flow\n",
    "<br>\n",
    "//TODO talk about how we chose what columns to keep.\n",
    "<br>\n",
    "//TODO Talk about how data is relatively simple and no need to reorganize"
   ]
  },
  {
   "cell_type": "code",
   "execution_count": 3,
   "metadata": {},
   "outputs": [
    {
     "name": "stdout",
     "output_type": "stream",
     "text": [
      "Loading Saved Tracks Now. Please be patient!\n",
      "retrying ...1secs\n",
      "retrying ...1secs\n",
      "retrying ...1secs\n",
      "retrying ...1secs\n"
     ]
    },
    {
     "data": {
      "text/html": [
       "<div>\n",
       "<style scoped>\n",
       "    .dataframe tbody tr th:only-of-type {\n",
       "        vertical-align: middle;\n",
       "    }\n",
       "\n",
       "    .dataframe tbody tr th {\n",
       "        vertical-align: top;\n",
       "    }\n",
       "\n",
       "    .dataframe thead th {\n",
       "        text-align: right;\n",
       "    }\n",
       "</style>\n",
       "<table border=\"1\" class=\"dataframe\">\n",
       "  <thead>\n",
       "    <tr style=\"text-align: right;\">\n",
       "      <th></th>\n",
       "      <th>title</th>\n",
       "      <th>artist</th>\n",
       "      <th>acousticness</th>\n",
       "      <th>danceability</th>\n",
       "      <th>energy</th>\n",
       "      <th>instrumentalness</th>\n",
       "      <th>liveness</th>\n",
       "      <th>tempo</th>\n",
       "      <th>valence</th>\n",
       "    </tr>\n",
       "  </thead>\n",
       "  <tbody>\n",
       "    <tr>\n",
       "      <td>0</td>\n",
       "      <td>All the Little Lights</td>\n",
       "      <td>Passenger</td>\n",
       "      <td>0.880000</td>\n",
       "      <td>0.324</td>\n",
       "      <td>0.428</td>\n",
       "      <td>0.000013</td>\n",
       "      <td>0.1070</td>\n",
       "      <td>173.464</td>\n",
       "      <td>0.243</td>\n",
       "    </tr>\n",
       "    <tr>\n",
       "      <td>1</td>\n",
       "      <td>Songbird</td>\n",
       "      <td>Aer</td>\n",
       "      <td>0.017500</td>\n",
       "      <td>0.810</td>\n",
       "      <td>0.731</td>\n",
       "      <td>0.000141</td>\n",
       "      <td>0.0655</td>\n",
       "      <td>143.969</td>\n",
       "      <td>0.622</td>\n",
       "    </tr>\n",
       "    <tr>\n",
       "      <td>2</td>\n",
       "      <td>Raging Fire</td>\n",
       "      <td>Phillip Phillips</td>\n",
       "      <td>0.011600</td>\n",
       "      <td>0.562</td>\n",
       "      <td>0.850</td>\n",
       "      <td>0.000000</td>\n",
       "      <td>0.1560</td>\n",
       "      <td>125.808</td>\n",
       "      <td>0.410</td>\n",
       "    </tr>\n",
       "    <tr>\n",
       "      <td>3</td>\n",
       "      <td>Am I Wrong</td>\n",
       "      <td>Nico &amp; Vinz</td>\n",
       "      <td>0.162000</td>\n",
       "      <td>0.725</td>\n",
       "      <td>0.680</td>\n",
       "      <td>0.000002</td>\n",
       "      <td>0.1580</td>\n",
       "      <td>119.939</td>\n",
       "      <td>0.760</td>\n",
       "    </tr>\n",
       "    <tr>\n",
       "      <td>4</td>\n",
       "      <td>Ready To Rock</td>\n",
       "      <td>Oddisee</td>\n",
       "      <td>0.001460</td>\n",
       "      <td>0.593</td>\n",
       "      <td>0.749</td>\n",
       "      <td>0.000069</td>\n",
       "      <td>0.3240</td>\n",
       "      <td>155.958</td>\n",
       "      <td>0.285</td>\n",
       "    </tr>\n",
       "    <tr>\n",
       "      <td>...</td>\n",
       "      <td>...</td>\n",
       "      <td>...</td>\n",
       "      <td>...</td>\n",
       "      <td>...</td>\n",
       "      <td>...</td>\n",
       "      <td>...</td>\n",
       "      <td>...</td>\n",
       "      <td>...</td>\n",
       "      <td>...</td>\n",
       "    </tr>\n",
       "    <tr>\n",
       "      <td>422</td>\n",
       "      <td>Young Blood</td>\n",
       "      <td>The Naked And Famous</td>\n",
       "      <td>0.000056</td>\n",
       "      <td>0.579</td>\n",
       "      <td>0.865</td>\n",
       "      <td>0.000221</td>\n",
       "      <td>0.6490</td>\n",
       "      <td>104.990</td>\n",
       "      <td>0.358</td>\n",
       "    </tr>\n",
       "    <tr>\n",
       "      <td>423</td>\n",
       "      <td>May I Have This Dance</td>\n",
       "      <td>Francis and the Lights</td>\n",
       "      <td>0.469000</td>\n",
       "      <td>0.576</td>\n",
       "      <td>0.451</td>\n",
       "      <td>0.038900</td>\n",
       "      <td>0.0876</td>\n",
       "      <td>90.439</td>\n",
       "      <td>0.803</td>\n",
       "    </tr>\n",
       "    <tr>\n",
       "      <td>424</td>\n",
       "      <td>Homecoming - (Explicit)</td>\n",
       "      <td>Kanye West</td>\n",
       "      <td>0.360000</td>\n",
       "      <td>0.671</td>\n",
       "      <td>0.740</td>\n",
       "      <td>0.000000</td>\n",
       "      <td>0.1180</td>\n",
       "      <td>86.932</td>\n",
       "      <td>0.908</td>\n",
       "    </tr>\n",
       "    <tr>\n",
       "      <td>425</td>\n",
       "      <td>HARD LOVE (feat. Andra Day)</td>\n",
       "      <td>NEEDTOBREATHE</td>\n",
       "      <td>0.150000</td>\n",
       "      <td>0.424</td>\n",
       "      <td>0.875</td>\n",
       "      <td>0.000000</td>\n",
       "      <td>0.2700</td>\n",
       "      <td>168.058</td>\n",
       "      <td>0.440</td>\n",
       "    </tr>\n",
       "    <tr>\n",
       "      <td>426</td>\n",
       "      <td>Starboy</td>\n",
       "      <td>The Weeknd</td>\n",
       "      <td>0.141000</td>\n",
       "      <td>0.678</td>\n",
       "      <td>0.588</td>\n",
       "      <td>0.000006</td>\n",
       "      <td>0.1370</td>\n",
       "      <td>186.005</td>\n",
       "      <td>0.486</td>\n",
       "    </tr>\n",
       "  </tbody>\n",
       "</table>\n",
       "<p>427 rows × 9 columns</p>\n",
       "</div>"
      ],
      "text/plain": [
       "                           title                  artist  acousticness  \\\n",
       "0          All the Little Lights               Passenger      0.880000   \n",
       "1                       Songbird                     Aer      0.017500   \n",
       "2                    Raging Fire        Phillip Phillips      0.011600   \n",
       "3                     Am I Wrong             Nico & Vinz      0.162000   \n",
       "4                  Ready To Rock                 Oddisee      0.001460   \n",
       "..                           ...                     ...           ...   \n",
       "422                  Young Blood    The Naked And Famous      0.000056   \n",
       "423        May I Have This Dance  Francis and the Lights      0.469000   \n",
       "424      Homecoming - (Explicit)              Kanye West      0.360000   \n",
       "425  HARD LOVE (feat. Andra Day)           NEEDTOBREATHE      0.150000   \n",
       "426                      Starboy              The Weeknd      0.141000   \n",
       "\n",
       "     danceability  energy  instrumentalness  liveness    tempo  valence  \n",
       "0           0.324   0.428          0.000013    0.1070  173.464    0.243  \n",
       "1           0.810   0.731          0.000141    0.0655  143.969    0.622  \n",
       "2           0.562   0.850          0.000000    0.1560  125.808    0.410  \n",
       "3           0.725   0.680          0.000002    0.1580  119.939    0.760  \n",
       "4           0.593   0.749          0.000069    0.3240  155.958    0.285  \n",
       "..            ...     ...               ...       ...      ...      ...  \n",
       "422         0.579   0.865          0.000221    0.6490  104.990    0.358  \n",
       "423         0.576   0.451          0.038900    0.0876   90.439    0.803  \n",
       "424         0.671   0.740          0.000000    0.1180   86.932    0.908  \n",
       "425         0.424   0.875          0.000000    0.2700  168.058    0.440  \n",
       "426         0.678   0.588          0.000006    0.1370  186.005    0.486  \n",
       "\n",
       "[427 rows x 9 columns]"
      ]
     },
     "execution_count": 3,
     "metadata": {},
     "output_type": "execute_result"
    }
   ],
   "source": [
    "def get_saved_tracks():\n",
    "    results = sp.current_user_saved_tracks()\n",
    "    tracks = results['items']\n",
    "    while results['next']:\n",
    "        results = sp.next(results)\n",
    "        tracks.extend(results['items'])\n",
    "    return tracks\n",
    "\n",
    "print('Loading Saved Tracks Now. Please be patient!')\n",
    "\n",
    "tracks = get_saved_tracks()\n",
    "features = []\n",
    "track_info = []\n",
    "for track in tracks:\n",
    "    features.extend(sp.audio_features(track['track']['uri']))\n",
    "    track_info.append([track['track']['name'], track['track']['artists'][0]['name']])\n",
    "\n",
    "features = pd.DataFrame.from_records(features)\n",
    "track_info = pd.DataFrame.from_records(track_info)\n",
    "track_info = track_info.rename(columns={0: \"title\", 1: \"artist\"})\n",
    "features = pd.concat([track_info,features],axis=1)\n",
    "features = features[['title','artist','acousticness', 'danceability', 'energy', 'instrumentalness', 'liveness', 'tempo', 'valence']]\n",
    "\n",
    "features"
   ]
  },
  {
   "cell_type": "code",
   "execution_count": 4,
   "metadata": {},
   "outputs": [],
   "source": [
    "features = pd.read_csv('sample_data') "
   ]
  },
  {
   "cell_type": "markdown",
   "metadata": {},
   "source": [
    "## Exploratory Data Analysis & Visualizations"
   ]
  },
  {
   "cell_type": "code",
   "execution_count": 17,
   "metadata": {},
   "outputs": [
    {
     "data": {
      "image/png": "[encoded data removed]",
      "text/plain": [
       "<Figure size 576x576 with 2 Axes>"
      ]
     },
     "metadata": {
      "needs_background": "light"
     },
     "output_type": "display_data"
    }
   ],
   "source": [
    "# Explain the columns and how values are determined.\n",
    "# Summary Statistics\n",
    "# Histograms\n",
    "# Correlation Graphs\n",
    "features.describe()\n",
    "\n",
    "# corrMatrix = features.corr()\n",
    "# sns.heatmap(corrMatrix, annot=True)\n",
    "\n",
    "plt.figure(figsize=(8,8))\n",
    "sns.heatmap(features.corr(),\n",
    "            vmin=-1,\n",
    "            cmap='coolwarm',\n",
    "            annot=True);\n"
   ]
  },
  {
   "cell_type": "markdown",
   "metadata": {},
   "source": [
    "## Machine Learning"
   ]
  },
  {
   "cell_type": "code",
   "execution_count": 6,
   "metadata": {},
   "outputs": [],
   "source": [
    "# Found cool article on PCA & One Class SVM here:\n",
    "# https://medium.com/cuepoint/visualizing-hundreds-of-my-favorite-songs-on-spotify-fe50c94b8af3\n",
    "# Implementation is found here:\n",
    "# http://www.esparsons.com/blogmain/2018/11/27/an-eclectic-spotify-library-visualized-with-chartify\n",
    "\n",
    "#TODO PCA Analysis\n",
    "#TODO One Class SVM\n",
    "#TODO Clustering\n",
    "\n",
    "#TODO Error analysis...\n",
    "#TODO Check if new playlists can fit into the SVM\n",
    "clusters = "
   ]
  },
  {
   "cell_type": "markdown",
   "metadata": {},
   "source": [
    "## Takeaways "
   ]
  },
  {
   "cell_type": "code",
   "execution_count": 16,
   "metadata": {},
   "outputs": [
    {
     "data": {
      "text/plain": [
       "24"
      ]
     },
     "execution_count": 16,
     "metadata": {},
     "output_type": "execute_result"
    }
   ],
   "source": [
    "df = features[['acousticness', 'danceability', 'energy', 'instrumentalness', 'liveness', 'tempo', 'valence']]\n",
    "\n",
    "clusters = cluster.AffinityPropagation(preference=-75).fit(df.values)\n",
    "clusters = clusters.cluster_centers_\n",
    "len(clusters)"
   ]
  },
  {
   "cell_type": "code",
   "execution_count": null,
   "metadata": {},
   "outputs": [],
   "source": []
  }
 ],
 "metadata": {
  "kernelspec": {
   "display_name": "Python 3",
   "language": "python",
   "name": "python3"
  },
  "language_info": {
   "codemirror_mode": {
    "name": "ipython",
    "version": 3
   },
   "file_extension": ".py",
   "mimetype": "text/x-python",
   "name": "python",
   "nbconvert_exporter": "python",
   "pygments_lexer": "ipython3",
   "version": "3.7.4"
  }
 },
 "nbformat": 4,
 "nbformat_minor": 2
}
