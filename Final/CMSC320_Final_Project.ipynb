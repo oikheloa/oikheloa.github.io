{
 "cells": [
  {
   "cell_type": "code",
   "execution_count": 7,
   "metadata": {},
   "outputs": [],
   "source": [
    "import sys\n",
    "import math\n",
    "import spotipy\n",
    "import spotipy.util as util"
   ]
  },
  {
   "cell_type": "markdown",
   "metadata": {},
   "source": [
    "# Authorization for Spotify Profile Access"
   ]
  },
  {
   "cell_type": "code",
   "execution_count": 15,
   "metadata": {},
   "outputs": [
    {
     "name": "stdout",
     "output_type": "stream",
     "text": [
      "Please Enter Username\n",
      "Username: 12124976904s\n",
      "\n",
      "\n",
      "\n",
      "            User authentication requires interaction with your\n",
      "            web browser. Once you enter your credentials and\n",
      "            give authorization, you will be redirected to\n",
      "            a url.  Paste that url you were directed to to\n",
      "            complete the authorization.\n",
      "\n",
      "        \n",
      "Opened https://accounts.spotify.com/authorize?client_id=c3aacebd1b0d4a7ca415ca317ec72531&response_type=code&redirect_uri=http%3A%2F%2Fgoogle.com%2F&scope=user-library-read in your browser\n",
      "\n",
      "\n",
      "Enter the URL you were redirected to: https://www.google.com/?code=AQDDQZNnRjNxIu7TFCJUThMjQmQz4-rBrdIgQUigrMS8Ca4sH1KYkkomVTalxwRY-awDzJ2mL_zrdYbTKNA2qM0dly83dlRcQo_csv6E5138UsRH7jrYakJlRpRF8ciS_j6Fc0uZQDFPRgWcguJIxTk1NMYTkcogC6FSZ37U3BNbORfWMnq5Vb9-hxMxPVfoeBnCwmL8HH-OEvE\n",
      "\n",
      "\n"
     ]
    }
   ],
   "source": [
    "# Generate authorization token for reading user library\n",
    "scope = 'user-library-read'\n",
    "client_id = 'c3aacebd1b0d4a7ca415ca317ec72531'\n",
    "client_secret = '343a5709a346489d9aa013f32f00cfe4'\n",
    "redirect_uri = 'http://google.com/'\n",
    "\n",
    "print(\"Please Enter Username\")\n",
    "val = str(input(\"Username: \")) #12124976904s\n",
    "print()\n",
    "\n",
    "token = util.prompt_for_user_token(username, scope, client_id, client_secret, redirect_uri)\n",
    "\n",
    "if token:\n",
    "    sp = spotipy.Spotify(auth=token)\n",
    "\n",
    "else:\n",
    "    print(\"Can't get token for\", username)\n",
    "    sys.exit()"
   ]
  },
  {
   "cell_type": "markdown",
   "metadata": {},
   "source": [
    "# Data Collection and Tidying"
   ]
  },
  {
   "cell_type": "code",
   "execution_count": null,
   "metadata": {},
   "outputs": [],
   "source": []
  }
 ],
 "metadata": {
  "kernelspec": {
   "display_name": "Python 3",
   "language": "python",
   "name": "python3"
  },
  "language_info": {
   "codemirror_mode": {
    "name": "ipython",
    "version": 3
   },
   "file_extension": ".py",
   "mimetype": "text/x-python",
   "name": "python",
   "nbconvert_exporter": "python",
   "pygments_lexer": "ipython3",
   "version": "3.7.4"
  }
 },
 "nbformat": 4,
 "nbformat_minor": 2
}
