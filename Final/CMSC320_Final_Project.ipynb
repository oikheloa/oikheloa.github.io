{
 "cells": [
  {
   "cell_type": "markdown",
   "metadata": {},
   "source": [
    "# [Insert Creative Title HERE]"
   ]
  },
  {
   "cell_type": "markdown",
   "metadata": {},
   "source": [
    "## Introduction and Motivation"
   ]
  },
  {
   "cell_type": "markdown",
   "metadata": {},
   "source": [
    "## Required Libraries\n",
    "\n",
    "Intro to Pandas:\n",
    "https://pandas.pydata.org/pandas-docs/version/0.15/tutorials.html\n",
    "\n",
    "Learning the Spotify API through spotipy:\n",
    "https://spotipy.readthedocs.io/en/latest/#\n"
   ]
  },
  {
   "cell_type": "code",
   "execution_count": 40,
   "metadata": {},
   "outputs": [],
   "source": [
    "import sys\n",
    "import pandas as pd\n",
    "import numpy as np\n",
    "import spotipy\n",
    "import spotipy.util as util\n",
    "import matplotlib.pyplot as plt\n",
    "from sklearn import cluster\n",
    "import plotly.graph_objects as go"
   ]
  },
  {
   "cell_type": "markdown",
   "metadata": {},
   "source": [
    "## Data Collection and Tidying\n",
    "//TODO Talk about general authentication flow. Link example resource. Explain how to get the spotify username\n",
    "//TODO talk about how we chose what columns to keep. Talk about how data is relatively simple and no need to reorganize"
   ]
  },
  {
   "cell_type": "code",
   "execution_count": 33,
   "metadata": {},
   "outputs": [
    {
     "name": "stdout",
     "output_type": "stream",
     "text": [
      "What music would you like to include in the dataset?\n",
      "\n",
      "Press 1 for saved/liked tracks\n",
      "Press 2 for a sample dataset\n",
      "\n",
      "Value: 1\n",
      "Please Enter Username\n",
      "Username: 12124976904\n"
     ]
    },
    {
     "data": {
      "text/html": [
       "<div>\n",
       "<style scoped>\n",
       "    .dataframe tbody tr th:only-of-type {\n",
       "        vertical-align: middle;\n",
       "    }\n",
       "\n",
       "    .dataframe tbody tr th {\n",
       "        vertical-align: top;\n",
       "    }\n",
       "\n",
       "    .dataframe thead th {\n",
       "        text-align: right;\n",
       "    }\n",
       "</style>\n",
       "<table border=\"1\" class=\"dataframe\">\n",
       "  <thead>\n",
       "    <tr style=\"text-align: right;\">\n",
       "      <th></th>\n",
       "      <th>acousticness</th>\n",
       "      <th>danceability</th>\n",
       "      <th>energy</th>\n",
       "      <th>instrumentalness</th>\n",
       "      <th>tempo</th>\n",
       "      <th>valence</th>\n",
       "    </tr>\n",
       "  </thead>\n",
       "  <tbody>\n",
       "    <tr>\n",
       "      <th>0</th>\n",
       "      <td>0.847000</td>\n",
       "      <td>0.342</td>\n",
       "      <td>0.352</td>\n",
       "      <td>0.899</td>\n",
       "      <td>0.280701</td>\n",
       "      <td>0.0371</td>\n",
       "    </tr>\n",
       "    <tr>\n",
       "      <th>1</th>\n",
       "      <td>0.872000</td>\n",
       "      <td>0.318</td>\n",
       "      <td>0.590</td>\n",
       "      <td>0.911</td>\n",
       "      <td>0.404077</td>\n",
       "      <td>0.0317</td>\n",
       "    </tr>\n",
       "    <tr>\n",
       "      <th>2</th>\n",
       "      <td>0.815000</td>\n",
       "      <td>0.527</td>\n",
       "      <td>0.332</td>\n",
       "      <td>0.506</td>\n",
       "      <td>0.360837</td>\n",
       "      <td>0.0362</td>\n",
       "    </tr>\n",
       "    <tr>\n",
       "      <th>3</th>\n",
       "      <td>0.521000</td>\n",
       "      <td>0.619</td>\n",
       "      <td>0.606</td>\n",
       "      <td>0.541</td>\n",
       "      <td>0.532921</td>\n",
       "      <td>0.4210</td>\n",
       "    </tr>\n",
       "    <tr>\n",
       "      <th>4</th>\n",
       "      <td>0.635000</td>\n",
       "      <td>0.544</td>\n",
       "      <td>0.512</td>\n",
       "      <td>0.595</td>\n",
       "      <td>0.471877</td>\n",
       "      <td>0.3600</td>\n",
       "    </tr>\n",
       "    <tr>\n",
       "      <th>...</th>\n",
       "      <td>...</td>\n",
       "      <td>...</td>\n",
       "      <td>...</td>\n",
       "      <td>...</td>\n",
       "      <td>...</td>\n",
       "      <td>...</td>\n",
       "    </tr>\n",
       "    <tr>\n",
       "      <th>93</th>\n",
       "      <td>0.000018</td>\n",
       "      <td>0.312</td>\n",
       "      <td>0.794</td>\n",
       "      <td>0.361</td>\n",
       "      <td>0.550520</td>\n",
       "      <td>0.4270</td>\n",
       "    </tr>\n",
       "    <tr>\n",
       "      <th>94</th>\n",
       "      <td>0.132000</td>\n",
       "      <td>0.536</td>\n",
       "      <td>0.693</td>\n",
       "      <td>0.557</td>\n",
       "      <td>0.477839</td>\n",
       "      <td>0.5360</td>\n",
       "    </tr>\n",
       "    <tr>\n",
       "      <th>95</th>\n",
       "      <td>0.000079</td>\n",
       "      <td>0.396</td>\n",
       "      <td>0.760</td>\n",
       "      <td>0.243</td>\n",
       "      <td>0.481419</td>\n",
       "      <td>0.1940</td>\n",
       "    </tr>\n",
       "    <tr>\n",
       "      <th>96</th>\n",
       "      <td>0.003340</td>\n",
       "      <td>0.153</td>\n",
       "      <td>0.556</td>\n",
       "      <td>0.880</td>\n",
       "      <td>0.298057</td>\n",
       "      <td>0.0373</td>\n",
       "    </tr>\n",
       "    <tr>\n",
       "      <th>97</th>\n",
       "      <td>0.198000</td>\n",
       "      <td>0.380</td>\n",
       "      <td>0.332</td>\n",
       "      <td>0.600</td>\n",
       "      <td>0.430259</td>\n",
       "      <td>0.1410</td>\n",
       "    </tr>\n",
       "  </tbody>\n",
       "</table>\n",
       "<p>98 rows × 6 columns</p>\n",
       "</div>"
      ],
      "text/plain": [
       "    acousticness  danceability  energy  instrumentalness     tempo  valence\n",
       "0       0.847000         0.342   0.352             0.899  0.280701   0.0371\n",
       "1       0.872000         0.318   0.590             0.911  0.404077   0.0317\n",
       "2       0.815000         0.527   0.332             0.506  0.360837   0.0362\n",
       "3       0.521000         0.619   0.606             0.541  0.532921   0.4210\n",
       "4       0.635000         0.544   0.512             0.595  0.471877   0.3600\n",
       "..           ...           ...     ...               ...       ...      ...\n",
       "93      0.000018         0.312   0.794             0.361  0.550520   0.4270\n",
       "94      0.132000         0.536   0.693             0.557  0.477839   0.5360\n",
       "95      0.000079         0.396   0.760             0.243  0.481419   0.1940\n",
       "96      0.003340         0.153   0.556             0.880  0.298057   0.0373\n",
       "97      0.198000         0.380   0.332             0.600  0.430259   0.1410\n",
       "\n",
       "[98 rows x 6 columns]"
      ]
     },
     "execution_count": 33,
     "metadata": {},
     "output_type": "execute_result"
    }
   ],
   "source": [
    "print('What music would you like to include in the dataset?')\n",
    "print()\n",
    "print('Press 1 for saved/liked tracks')\n",
    "print('Press 2 for a sample dataset')\n",
    "print()\n",
    "choice = int(input(\"Value: \"))\n",
    "\n",
    "while choice < 1 or choice > 2:\n",
    "    print()\n",
    "    print('Not a valid choice XD, try again')\n",
    "    print()\n",
    "    choice = int(input('Value: '))\n",
    "\n",
    "if choice == 1:\n",
    "    # Generate authorization token for reading user library\n",
    "    scope = 'user-library-read'\n",
    "    client_id = 'c3aacebd1b0d4a7ca415ca317ec72531'\n",
    "    client_secret = '343a5709a346489d9aa013f32f00cfe4'\n",
    "    redirect_uri = 'http://google.com/'\n",
    "\n",
    "    print(\"Please Enter Username\")\n",
    "    username = str(input(\"Username: \")) #12124976904\n",
    "\n",
    "    token = util.prompt_for_user_token(username, scope, client_id, client_secret, redirect_uri)\n",
    "\n",
    "    if token:\n",
    "        sp = spotipy.Spotify(auth=token)\n",
    "\n",
    "    else:\n",
    "        print(\"Can't get token for\", username)\n",
    "        sys.exit()\n",
    "    \n",
    "    def get_saved_tracks():\n",
    "        results = sp.current_user_saved_tracks()\n",
    "        tracks = results['items']\n",
    "        while results['next']:\n",
    "            results = sp.next(results)\n",
    "            tracks.extend(results['items'])\n",
    "        return tracks\n",
    "\n",
    "    tracks = get_saved_tracks()\n",
    "    features = []\n",
    "    for track in tracks:\n",
    "        features.extend(sp.audio_features(track['track']['uri']))\n",
    "    features = pd.DataFrame.from_records(features)\n",
    "    features = features[['acousticness', 'danceability', 'energy', 'instrumentalness', 'tempo', 'valence']]\n",
    "    features['tempo'] = (features['tempo']-features['tempo'].min())/(features['tempo'].max()-features['tempo'].min())\n",
    "\n",
    "else:\n",
    "    features = pd.read_csv('sample_data') #TODO download the dataframe as a csv and add to path\n",
    "    \n",
    "features #TODO Add Name and Artist"
   ]
  },
  {
   "cell_type": "markdown",
   "metadata": {},
   "source": [
    "## Exploratory Data Analysis & Visualizations"
   ]
  },
  {
   "cell_type": "code",
   "execution_count": null,
   "metadata": {},
   "outputs": [],
   "source": [
    "#Explain the columns and how values are determined.\n",
    "# Summary Statistics\n",
    "# Histograms\n",
    "# Correlation Graphs"
   ]
  },
  {
   "cell_type": "code",
   "execution_count": 37,
   "metadata": {},
   "outputs": [
    {
     "data": {
      "image/png": "[encoded data removed]",
      "text/plain": [
       "<Figure size 1080x576 with 6 Axes>"
      ]
     },
     "metadata": {
      "needs_background": "light"
     },
     "output_type": "display_data"
    }
   ],
   "source": [
    "fig, axes = plt.subplots(2, 3, sharex=True, figsize=(15,8))\n",
    "axes = axes.flatten()\n",
    "idx = 0\n",
    "\n",
    "for col in features.columns:\n",
    "    axes[idx].hist(features[col])\n",
    "    axes[idx].set_title(col + \" (mean: \" + str(np.round(features[col].mean(), 3)) + \")\")\n",
    "    idx += 1"
   ]
  },
  {
   "cell_type": "code",
   "execution_count": 24,
   "metadata": {},
   "outputs": [
    {
     "data": {
      "text/plain": [
       "<matplotlib.image.AxesImage at 0x12474a210>"
      ]
     },
     "execution_count": 24,
     "metadata": {},
     "output_type": "execute_result"
    },
    {
     "data": {
      "image/png": "[encoded data removed]",
      "text/plain": [
       "<Figure size 432x288 with 1 Axes>"
      ]
     },
     "metadata": {
      "needs_background": "light"
     },
     "output_type": "display_data"
    }
   ],
   "source": [
    "h, xedges, yedges = np.histogram2d(features['energy'], features['tempo'])\n",
    "plt.imshow(h, extent=[0, 1, 0, 1])"
   ]
  },
  {
   "cell_type": "markdown",
   "metadata": {},
   "source": [
    "## Machine Learning"
   ]
  },
  {
   "cell_type": "code",
   "execution_count": null,
   "metadata": {},
   "outputs": [],
   "source": [
    "# Found cool article on PCA & One Class SVM here:\n",
    "# https://medium.com/cuepoint/visualizing-hundreds-of-my-favorite-songs-on-spotify-fe50c94b8af3\n",
    "# Implementation is found here:\n",
    "# http://www.esparsons.com/blogmain/2018/11/27/an-eclectic-spotify-library-visualized-with-chartify\n",
    "\n",
    "#TODO PCA Analysis\n",
    "#TODO One Class SVM\n",
    "#TODO Clustering\n",
    "\n",
    "#TODO Error analysis...\n",
    "#TODO Check if new playlists can fit into the SVM\n"
   ]
  },
  {
   "cell_type": "code",
   "execution_count": 92,
   "metadata": {},
   "outputs": [],
   "source": [
    "clusters = cluster.AffinityPropagation(preference=-1).fit(features.values)"
   ]
  },
  {
   "cell_type": "code",
   "execution_count": 93,
   "metadata": {},
   "outputs": [
    {
     "name": "stdout",
     "output_type": "stream",
     "text": [
      "8\n"
     ]
    },
    {
     "data": {
      "text/plain": [
       "array([[8.37000000e-01, 4.80000000e-01, 3.23000000e-01, 6.45000000e-01,\n",
       "        4.03270025e-01, 2.92000000e-01],\n",
       "       [7.60000000e-02, 3.83000000e-01, 7.65000000e-01, 6.43000000e-01,\n",
       "        7.13099898e-01, 4.51000000e-01],\n",
       "       [2.87000000e-05, 2.53000000e-01, 8.47000000e-01, 4.02000000e-02,\n",
       "        7.06634479e-01, 2.36000000e-01],\n",
       "       [8.64000000e-01, 1.67000000e-01, 2.31000000e-01, 8.16000000e-01,\n",
       "        4.05219550e-01, 3.14000000e-02],\n",
       "       [2.09000000e-04, 5.43000000e-01, 8.71000000e-01, 4.00000000e-04,\n",
       "        4.70741886e-01, 7.04000000e-01],\n",
       "       [5.48000000e-03, 4.13000000e-01, 5.57000000e-01, 2.27000000e-03,\n",
       "        4.59516883e-01, 1.58000000e-01],\n",
       "       [3.67000000e-03, 3.77000000e-01, 7.31000000e-01, 8.21000000e-01,\n",
       "        3.05245442e-01, 1.48000000e-01],\n",
       "       [5.49000000e-02, 2.95000000e-01, 7.36000000e-01, 4.19000000e-01,\n",
       "        5.14126445e-01, 2.50000000e-01]])"
      ]
     },
     "execution_count": 93,
     "metadata": {},
     "output_type": "execute_result"
    }
   ],
   "source": [
    "print(len(clusters.cluster_centers_))\n",
    "clusters.cluster_centers_"
   ]
  },
  {
   "cell_type": "markdown",
   "metadata": {},
   "source": [
    "## Takeaways "
   ]
  },
  {
   "cell_type": "code",
   "execution_count": null,
   "metadata": {},
   "outputs": [],
   "source": []
  }
 ],
 "metadata": {
  "kernelspec": {
   "display_name": "Python 3",
   "language": "python",
   "name": "python3"
  },
  "language_info": {
   "codemirror_mode": {
    "name": "ipython",
    "version": 3
   },
   "file_extension": ".py",
   "mimetype": "text/x-python",
   "name": "python",
   "nbconvert_exporter": "python",
   "pygments_lexer": "ipython3",
   "version": "3.7.4"
  }
 },
 "nbformat": 4,
 "nbformat_minor": 2
}
