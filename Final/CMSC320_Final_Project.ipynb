{
 "cells": [
  {
   "cell_type": "code",
   "execution_count": 2,
   "metadata": {},
   "outputs": [],
   "source": [
    "import sys\n",
    "import math\n",
    "import spotipy\n",
    "import spotipy.util as util"
   ]
  },
  {
   "cell_type": "markdown",
   "metadata": {},
   "source": [
    "# Authorization for Spotify Profile Access"
   ]
  },
  {
   "cell_type": "code",
   "execution_count": null,
   "metadata": {},
   "outputs": [
    {
     "name": "stdout",
     "output_type": "stream",
     "text": [
      "Please Enter Username\n"
     ]
    }
   ],
   "source": [
    "# Generate authorization token for reading user library\n",
    "scope = 'user-top-read'\n",
    "client_id = 'c3aacebd1b0d4a7ca415ca317ec72531'\n",
    "client_secret = '343a5709a346489d9aa013f32f00cfe4'\n",
    "redirect_uri = 'http://google.com/'\n",
    "\n",
    "print(\"Please Enter Username\")\n",
    "username = str(input(\"Username: \")) #12124976904s\n",
    "print()\n",
    "\n",
    "token = util.prompt_for_user_token(username, scope, client_id, client_secret, redirect_uri)\n",
    "\n",
    "if token:\n",
    "    sp = spotipy.Spotify(auth=token)\n",
    "\n",
    "else:\n",
    "    print(\"Can't get token for\", username)\n",
    "    sys.exit()"
   ]
  },
  {
   "cell_type": "markdown",
   "metadata": {},
   "source": [
    "# Data Collection and Tidying"
   ]
  },
  {
   "cell_type": "code",
   "execution_count": 5,
   "metadata": {},
   "outputs": [
    {
     "name": "stdout",
     "output_type": "stream",
     "text": [
      "\n",
      "How large of a range would you like your assessment of music preference to be?\n",
      "Please pick a time range:\n",
      "\n",
      "0 - Short term\n",
      "1 - Medium term\n",
      "2 - Long term\n",
      "\n",
      "Value: 0\n",
      "\n",
      "Your top tracks:\n",
      "Format: Rank. Track - Artist (Popularity)\n",
      "\n"
     ]
    },
    {
     "ename": "SpotifyException",
     "evalue": "http status: 403, code:-1 - https://api.spotify.com/v1/me/top/tracks?time_range=short_term&limit=50&offset=0:\n error",
     "output_type": "error",
     "traceback": [
      "\u001b[0;31m---------------------------------------------------------------------------\u001b[0m",
      "\u001b[0;31mHTTPError\u001b[0m                                 Traceback (most recent call last)",
      "\u001b[0;32m/usr/local/lib/python3.7/site-packages/spotipy/client.py\u001b[0m in \u001b[0;36m_internal_call\u001b[0;34m(self, method, url, payload, params)\u001b[0m\n\u001b[1;32m    118\u001b[0m         \u001b[0;32mtry\u001b[0m\u001b[0;34m:\u001b[0m\u001b[0;34m\u001b[0m\u001b[0;34m\u001b[0m\u001b[0m\n\u001b[0;32m--> 119\u001b[0;31m             \u001b[0mr\u001b[0m\u001b[0;34m.\u001b[0m\u001b[0mraise_for_status\u001b[0m\u001b[0;34m(\u001b[0m\u001b[0;34m)\u001b[0m\u001b[0;34m\u001b[0m\u001b[0;34m\u001b[0m\u001b[0m\n\u001b[0m\u001b[1;32m    120\u001b[0m         \u001b[0;32mexcept\u001b[0m\u001b[0;34m:\u001b[0m\u001b[0;34m\u001b[0m\u001b[0;34m\u001b[0m\u001b[0m\n",
      "\u001b[0;32m/usr/local/lib/python3.7/site-packages/requests/models.py\u001b[0m in \u001b[0;36mraise_for_status\u001b[0;34m(self)\u001b[0m\n\u001b[1;32m    939\u001b[0m         \u001b[0;32mif\u001b[0m \u001b[0mhttp_error_msg\u001b[0m\u001b[0;34m:\u001b[0m\u001b[0;34m\u001b[0m\u001b[0;34m\u001b[0m\u001b[0m\n\u001b[0;32m--> 940\u001b[0;31m             \u001b[0;32mraise\u001b[0m \u001b[0mHTTPError\u001b[0m\u001b[0;34m(\u001b[0m\u001b[0mhttp_error_msg\u001b[0m\u001b[0;34m,\u001b[0m \u001b[0mresponse\u001b[0m\u001b[0;34m=\u001b[0m\u001b[0mself\u001b[0m\u001b[0;34m)\u001b[0m\u001b[0;34m\u001b[0m\u001b[0;34m\u001b[0m\u001b[0m\n\u001b[0m\u001b[1;32m    941\u001b[0m \u001b[0;34m\u001b[0m\u001b[0m\n",
      "\u001b[0;31mHTTPError\u001b[0m: 403 Client Error: Forbidden for url: https://api.spotify.com/v1/me/top/tracks?time_range=short_term&limit=50&offset=0",
      "\nDuring handling of the above exception, another exception occurred:\n",
      "\u001b[0;31mSpotifyException\u001b[0m                          Traceback (most recent call last)",
      "\u001b[0;32m<ipython-input-5-1e1c1d9c5e91>\u001b[0m in \u001b[0;36m<module>\u001b[0;34m\u001b[0m\n\u001b[1;32m     29\u001b[0m \u001b[0mprint\u001b[0m\u001b[0;34m(\u001b[0m\u001b[0;34m)\u001b[0m\u001b[0;34m\u001b[0m\u001b[0;34m\u001b[0m\u001b[0m\n\u001b[1;32m     30\u001b[0m \u001b[0;34m\u001b[0m\u001b[0m\n\u001b[0;32m---> 31\u001b[0;31m \u001b[0mtracks\u001b[0m \u001b[0;34m=\u001b[0m \u001b[0msp\u001b[0m\u001b[0;34m.\u001b[0m\u001b[0mcurrent_user_top_tracks\u001b[0m\u001b[0;34m(\u001b[0m\u001b[0;36m50\u001b[0m\u001b[0;34m,\u001b[0m \u001b[0;36m0\u001b[0m\u001b[0;34m,\u001b[0m \u001b[0mterm\u001b[0m\u001b[0;34m)\u001b[0m\u001b[0;34m\u001b[0m\u001b[0;34m\u001b[0m\u001b[0m\n\u001b[0m\u001b[1;32m     32\u001b[0m \u001b[0mpop\u001b[0m \u001b[0;34m=\u001b[0m \u001b[0;34m[\u001b[0m\u001b[0;34m]\u001b[0m\u001b[0;34m\u001b[0m\u001b[0;34m\u001b[0m\u001b[0m\n\u001b[1;32m     33\u001b[0m \u001b[0mexp\u001b[0m \u001b[0;34m=\u001b[0m \u001b[0;36m0\u001b[0m\u001b[0;34m\u001b[0m\u001b[0;34m\u001b[0m\u001b[0m\n",
      "\u001b[0;32m/usr/local/lib/python3.7/site-packages/spotipy/client.py\u001b[0m in \u001b[0;36mcurrent_user_top_tracks\u001b[0;34m(self, limit, offset, time_range)\u001b[0m\n\u001b[1;32m    667\u001b[0m         '''\n\u001b[1;32m    668\u001b[0m         return self._get('me/top/tracks', time_range=time_range, limit=limit,\n\u001b[0;32m--> 669\u001b[0;31m                          offset=offset)\n\u001b[0m\u001b[1;32m    670\u001b[0m \u001b[0;34m\u001b[0m\u001b[0m\n\u001b[1;32m    671\u001b[0m     \u001b[0;32mdef\u001b[0m \u001b[0mcurrent_user_saved_albums_add\u001b[0m\u001b[0;34m(\u001b[0m\u001b[0mself\u001b[0m\u001b[0;34m,\u001b[0m \u001b[0malbums\u001b[0m\u001b[0;34m=\u001b[0m\u001b[0;34m[\u001b[0m\u001b[0;34m]\u001b[0m\u001b[0;34m)\u001b[0m\u001b[0;34m:\u001b[0m\u001b[0;34m\u001b[0m\u001b[0;34m\u001b[0m\u001b[0m\n",
      "\u001b[0;32m/usr/local/lib/python3.7/site-packages/spotipy/client.py\u001b[0m in \u001b[0;36m_get\u001b[0;34m(self, url, args, payload, **kwargs)\u001b[0m\n\u001b[1;32m    144\u001b[0m         \u001b[0;32mwhile\u001b[0m \u001b[0mretries\u001b[0m \u001b[0;34m>\u001b[0m \u001b[0;36m0\u001b[0m\u001b[0;34m:\u001b[0m\u001b[0;34m\u001b[0m\u001b[0;34m\u001b[0m\u001b[0m\n\u001b[1;32m    145\u001b[0m             \u001b[0;32mtry\u001b[0m\u001b[0;34m:\u001b[0m\u001b[0;34m\u001b[0m\u001b[0;34m\u001b[0m\u001b[0m\n\u001b[0;32m--> 146\u001b[0;31m                 \u001b[0;32mreturn\u001b[0m \u001b[0mself\u001b[0m\u001b[0;34m.\u001b[0m\u001b[0m_internal_call\u001b[0m\u001b[0;34m(\u001b[0m\u001b[0;34m'GET'\u001b[0m\u001b[0;34m,\u001b[0m \u001b[0murl\u001b[0m\u001b[0;34m,\u001b[0m \u001b[0mpayload\u001b[0m\u001b[0;34m,\u001b[0m \u001b[0mkwargs\u001b[0m\u001b[0;34m)\u001b[0m\u001b[0;34m\u001b[0m\u001b[0;34m\u001b[0m\u001b[0m\n\u001b[0m\u001b[1;32m    147\u001b[0m             \u001b[0;32mexcept\u001b[0m \u001b[0mSpotifyException\u001b[0m \u001b[0;32mas\u001b[0m \u001b[0me\u001b[0m\u001b[0;34m:\u001b[0m\u001b[0;34m\u001b[0m\u001b[0;34m\u001b[0m\u001b[0m\n\u001b[1;32m    148\u001b[0m                 \u001b[0mretries\u001b[0m \u001b[0;34m-=\u001b[0m \u001b[0;36m1\u001b[0m\u001b[0;34m\u001b[0m\u001b[0;34m\u001b[0m\u001b[0m\n",
      "\u001b[0;32m/usr/local/lib/python3.7/site-packages/spotipy/client.py\u001b[0m in \u001b[0;36m_internal_call\u001b[0;34m(self, method, url, payload, params)\u001b[0m\n\u001b[1;32m    125\u001b[0m             \u001b[0;32melse\u001b[0m\u001b[0;34m:\u001b[0m\u001b[0;34m\u001b[0m\u001b[0;34m\u001b[0m\u001b[0m\n\u001b[1;32m    126\u001b[0m                 raise SpotifyException(r.status_code,\n\u001b[0;32m--> 127\u001b[0;31m                     -1, '%s:\\n %s' % (r.url, 'error'), headers=r.headers)\n\u001b[0m\u001b[1;32m    128\u001b[0m         \u001b[0;32mfinally\u001b[0m\u001b[0;34m:\u001b[0m\u001b[0;34m\u001b[0m\u001b[0;34m\u001b[0m\u001b[0m\n\u001b[1;32m    129\u001b[0m             \u001b[0mr\u001b[0m\u001b[0;34m.\u001b[0m\u001b[0mconnection\u001b[0m\u001b[0;34m.\u001b[0m\u001b[0mclose\u001b[0m\u001b[0;34m(\u001b[0m\u001b[0;34m)\u001b[0m\u001b[0;34m\u001b[0m\u001b[0;34m\u001b[0m\u001b[0m\n",
      "\u001b[0;31mSpotifyException\u001b[0m: http status: 403, code:-1 - https://api.spotify.com/v1/me/top/tracks?time_range=short_term&limit=50&offset=0:\n error"
     ]
    }
   ],
   "source": [
    "\n",
    "print()\n",
    "print(\"How large of a range would you like your assessment of music preference to be?\")\n",
    "print(\"Please pick a time range:\")\n",
    "print()\n",
    "print(\"0 - Short term\")\n",
    "print(\"1 - Medium term\")\n",
    "print(\"2 - Long term\")\n",
    "print()\n",
    "val = int(input(\"Value: \"))\n",
    "print()\n",
    "\n",
    "while val > 2 or val < 0:\n",
    "    print()\n",
    "    print(\"Not a valid value, try again\")\n",
    "    print()\n",
    "    val = int(input(\"Value: \"))\n",
    "\n",
    "if val is 0:\n",
    "    term = 'short_term'\n",
    "elif val is 1:\n",
    "    term = 'medium_term'\n",
    "else:\n",
    "    term = 'long_term'\n",
    "\n",
    "# Get top 50 tracks\n",
    "\n",
    "print(\"Your top tracks:\")\n",
    "print(\"Format: Rank. Track - Artist (Popularity)\")\n",
    "print()\n",
    "\n",
    "tracks = sp.current_user_top_tracks(50, 0, term)\n",
    "pop = []\n",
    "exp = 0\n",
    "i = 1\n",
    "\n",
    "for item in tracks['items']:\n",
    "\n",
    "    print(str(i) + \". \" + item['name'] + \" - \" + item['artists'][0]['name'] + \" (\" + str(item['popularity']) + \")\")\n",
    "\n",
    "    pop += [item['popularity']]\n",
    "    \n",
    "    if item['explicit']:\n",
    "        exp += 1\n",
    "\n",
    "    i += 1\n",
    "\n",
    "mn = min(pop)\n",
    "mx = max(pop)\n",
    "mn_inds = [i for i, j in enumerate(pop) if j == mn]\n",
    "mx_inds = [i for i, j in enumerate(pop) if j == mx]\n",
    "\n",
    "for n in range(0, len(mn_inds)):\n",
    "    mn_inds[n] += 1\n",
    "for n in range(0, len(mx_inds)):\n",
    "    mx_inds[n] += 1\n",
    "\n",
    "print()\n",
    "print(\"Average track popularity: \" + str(sum(pop)/50))\n",
    "print(\"Percentage songs explicit: \" + str(round(100 * exp/50, 4)) + \"%\")\n",
    "print()\n",
    "print(\"Your most popular track appeared at rank(s) \" + str(mx_inds) + \" with a score of \" + str(mx))\n",
    "print(\"Your least popular track appeared at rank(s) \" + str(mn_inds) + \" with a score of \" + str(mn)) \n",
    "print()        \n",
    "    \n",
    "# Get top 20 artists\n",
    "\n",
    "print()\n",
    "print(\"Your top artists:\")\n",
    "print(\"Format: Rank. Artist (Popularity) - Followers\")\n",
    "print()\n",
    "\n",
    "artists = sp.current_user_top_artists(20, 0, term)\n",
    "pop = []\n",
    "followers = []\n",
    "i = 1\n",
    "\n",
    "for item in artists['items']:\n",
    "\n",
    "    print(str(i) + \". \" + item['name'] + \" (\" + str(item['popularity']) + \")\" + \" - \" + str(item['followers']['total']))\n",
    "\n",
    "    pop += [item['popularity']]\n",
    "\n",
    "    followers += [item['followers']['total']]\n",
    "\n",
    "    i += 1\n",
    "\n",
    "mn = min(pop)\n",
    "mx = max(pop)\n",
    "mn_inds = [i for i, j in enumerate(pop) if j == mn]\n",
    "mx_inds = [i for i, j in enumerate(pop) if j == mx]\n",
    "\n",
    "for n in range(0, len(mn_inds)):\n",
    "    mn_inds[n] += 1\n",
    "for n in range(0, len(mx_inds)):\n",
    "    mx_inds[n] += 1\n",
    "\n",
    "print()\n",
    "print(\"Average artist popularity: \" + str(sum(pop)/20))\n",
    "print(\"Average artist followers: \" + str(sum(followers)/20))\n",
    "print()\n",
    "print(\"Your most popular artist appeared at rank(s) \" + str(mx_inds) + \" with a score of \" + str(mx))\n",
    "print(\"Your least popular artist appeared at rank(s) \" + str(mn_inds) + \" with a score of \" + str(mn)) \n",
    "print()"
   ]
  },
  {
   "cell_type": "code",
   "execution_count": null,
   "metadata": {},
   "outputs": [],
   "source": []
  }
 ],
 "metadata": {
  "kernelspec": {
   "display_name": "Python 3",
   "language": "python",
   "name": "python3"
  },
  "language_info": {
   "codemirror_mode": {
    "name": "ipython",
    "version": 3
   },
   "file_extension": ".py",
   "mimetype": "text/x-python",
   "name": "python",
   "nbconvert_exporter": "python",
   "pygments_lexer": "ipython3",
   "version": "3.7.4"
  }
 },
 "nbformat": 4,
 "nbformat_minor": 2
}
